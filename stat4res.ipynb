{
 "cells": [
  {
   "cell_type": "code",
   "execution_count": 97,
   "id": "d33b97c1",
   "metadata": {},
   "outputs": [],
   "source": [
    "import numpy as np\n",
    "import scipy.stats as st\n",
    "import seaborn as sn\n",
    "import pandas as pd\n",
    "import matplotlib.pyplot as plt"
   ]
  },
  {
   "cell_type": "markdown",
   "id": "db2e7cca",
   "metadata": {},
   "source": [
    "# random variables and distributions"
   ]
  },
  {
   "cell_type": "code",
   "execution_count": 195,
   "id": "975d428b",
   "metadata": {},
   "outputs": [
    {
     "name": "stderr",
     "output_type": "stream",
     "text": [
      "No artists with labels found to put in legend.  Note that artists whose label start with an underscore are ignored when legend() is called with no argument.\n"
     ]
    },
    {
     "data": {
      "text/plain": [
       "(0.0, 18.900000000000002)"
      ]
     },
     "execution_count": 195,
     "metadata": {},
     "output_type": "execute_result"
    },
    {
     "data": {
      "image/png": "[encoded data removed]",
      "text/plain": [
       "<Figure size 432x288 with 4 Axes>"
      ]
     },
     "metadata": {
      "needs_background": "light"
     },
     "output_type": "display_data"
    }
   ],
   "source": [
    "# Assume you have a very large (practically infinite) population \n",
    "# with a given property described by a mean and a standard deviation:\n",
    "\n",
    "mean=5\n",
    "std=2\n",
    "size=100000\n",
    "pop=st.norm.rvs(loc=mean, scale=std,size=size)\n",
    "\n",
    "\n",
    "# The property of the population can be represented by a histogram (number of values in a given bin), \n",
    "# or a smooth curve representing the probability distribution function (PDF).\n",
    "\n",
    "fig, ax=plt.subplots(nrows=2,sharex=True)\n",
    "ax[0].hist(pop,bins=10,ec='k',label='bin count')\n",
    "plt.legend()\n",
    "\n",
    "kde=st.gaussian_kde(pop)\n",
    "x=np.linspace(pop.min(),pop.max(),1000)\n",
    "ax01=ax[0].twinx()\n",
    "ax01.plot(x,kde(x),c='r',label='probability')\n",
    "ax01.set_ylim(0,kde(x).max()*1.05)\n",
    "ax[0].set_ylim(0,np.histogram(pop)[0].max()*1.05)\n",
    "plt.legend()\n",
    "\n",
    "# # If you try to get a finite sample from that same population...\n",
    "size=100\n",
    "sample=st.norm.rvs(loc=mean, scale=std,size=size)\n",
    "\n",
    "# ... the histogram and PDF would look like this...\n",
    "\n",
    "ax[1].hist(sample,bins=10,ec='k',label='bin count')\n",
    "\n",
    "kde=st.gaussian_kde(sample)\n",
    "x=np.linspace(sample.min(),sample.max(),1000)\n",
    "ax11=ax[1].twinx()\n",
    "ax11.plot(x,kde(x),c='r',label='probability')\n",
    "ax11.set_ylim(0,kde(x).max()*1.05)\n",
    "ax[1].set_ylim(0,np.histogram(sample)[0].max()*1.05)\n"
   ]
  },
  {
   "cell_type": "code",
   "execution_count": 169,
   "id": "959a2e79",
   "metadata": {},
   "outputs": [
    {
     "name": "stdout",
     "output_type": "stream",
     "text": [
      "5 3.989 10.227 equal\n",
      "7 4.671 10.205 equal\n",
      "10 4.729 7.667 equal\n",
      "11 5.044 9.694 equal\n",
      "15 6.224 9.79 equal\n",
      "16 5.883 11.395 equal\n",
      "21 5.168 10.216 equal\n",
      "27 7.3 9.193 equal\n",
      "28 5.192 8.763 equal\n",
      "29 5.68 9.008 equal\n",
      "31 5.03 9.795 equal\n",
      "32 4.825 8.752 equal\n",
      "33 4.161 8.973 equal\n",
      "36 5.574 9.418 equal\n",
      "38 6.505 10.891 equal\n",
      "40 6.809 8.945 equal\n",
      "41 5.207 9.399 equal\n",
      "42 6.209 10.798 equal\n",
      "43 4.87 10.345 equal\n",
      "44 6.011 10.456 equal\n",
      "46 6.148 8.756 equal\n",
      "47 5.623 8.622 equal\n",
      "50 4.493 9.314 equal\n",
      "52 5.593 10.454 equal\n",
      "53 4.645 8.299 equal\n",
      "55 5.43 11.337 equal\n",
      "56 4.933 10.209 equal\n",
      "57 5.958 9.736 equal\n",
      "59 5.279 8.474 equal\n",
      "60 4.872 8.326 equal\n",
      "61 7.136 10.062 equal\n",
      "63 3.455 9.685 equal\n",
      "64 7.355 8.926 equal\n",
      "65 5.444 9.43 equal\n",
      "67 6.57 10.739 equal\n",
      "69 5.338 11.361 equal\n",
      "70 5.575 7.909 equal\n",
      "73 6.196 9.949 equal\n",
      "74 5.569 8.245 equal\n",
      "77 4.766 8.953 equal\n",
      "80 6.854 9.463 equal\n",
      "83 6.087 9.371 equal\n",
      "87 7.178 11.345 equal\n",
      "88 7.569 9.128 equal\n",
      "90 5.751 10.606 equal\n",
      "92 3.951 11.563 equal\n",
      "95 5.408 8.986 equal\n",
      "96 5.456 9.161 equal\n",
      "99 5.719 9.923 equal\n"
     ]
    }
   ],
   "source": [
    "mean=[5,10]\n",
    "std=[2,2]\n",
    "size=3\n",
    "alpha=0.05\n",
    "\n",
    "\n",
    "for i in range(100):\n",
    "    a=st.norm.rvs(loc=mean[0], scale=std[0],size=size)\n",
    "    b=st.norm.rvs(loc=mean[1], scale=std[1],size=size)\n",
    "\n",
    "    if st.ttest_ind(a,b,equal_var=False)[1]>=0.05:\n",
    "        test='equal'\n",
    "        print(i, np.round(a.mean(),3),np.round(b.mean(),3), test)\n",
    "\n",
    "    else:\n",
    "        test='non-equal'\n",
    "\n",
    "        \n"
   ]
  },
  {
   "cell_type": "code",
   "execution_count": null,
   "id": "62dffe51",
   "metadata": {},
   "outputs": [],
   "source": []
  }
 ],
 "metadata": {
  "kernelspec": {
   "display_name": "Python 3 (ipykernel)",
   "language": "python",
   "name": "python3"
  },
  "language_info": {
   "codemirror_mode": {
    "name": "ipython",
    "version": 3
   },
   "file_extension": ".py",
   "mimetype": "text/x-python",
   "name": "python",
   "nbconvert_exporter": "python",
   "pygments_lexer": "ipython3",
   "version": "3.10.2"
  }
 },
 "nbformat": 4,
 "nbformat_minor": 5
}
